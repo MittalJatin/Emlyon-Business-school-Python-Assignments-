{
 "cells": [
  {
   "cell_type": "markdown",
   "metadata": {},
   "source": [
    "# Assignment \\#3 the Olympic dataset\n",
    "\n",
    "#### Features description\n",
    "- *City*: City\n",
    "- *Edition*: Year\n",
    "- *Sport*: Sport\n",
    "- *Discipline*: Discipline\n",
    "- *Athlete*: Athlete's last name and first name (generally separated by a comma and a space)\n",
    "- *NOC*: Country, National Olympic Committee, ISO 3166-1 alpha-3\n",
    "- *Gender*: Men, Women\n",
    "- *Event*: Event\n",
    "- *Event_gender*: Event gender (F = Women, M = Men, X = NA)\n",
    "- *Medal*: Metal of medal (Bronze, Silver, Gold)"
   ]
  },
  {
   "cell_type": "code",
   "execution_count": 1,
   "metadata": {},
   "outputs": [],
   "source": [
    "# usual import and options\n",
    "import pandas as pd\n",
    "pd.set_option(\"display.max_rows\", 16)"
   ]
  },
  {
   "cell_type": "markdown",
   "metadata": {},
   "source": [
    "### Loading the dataset\n",
    "\n",
    "**file**: `'Summer Olympic medallists 1896 to 2008 - ALL MEDALISTS.txt'`\n",
    "\n",
    "**separator**: tab: `\\t`"
   ]
  },
  {
   "cell_type": "code",
   "execution_count": 4,
   "metadata": {},
   "outputs": [
    {
     "ename": "FileNotFoundError",
     "evalue": "[Errno 2] File b'Summer Olympic medallists 1896 to 2008 - ALL MEDALISTS.txt' does not exist: b'Summer Olympic medallists 1896 to 2008 - ALL MEDALISTS.txt'",
     "output_type": "error",
     "traceback": [
      "\u001b[0;31m---------------------------------------------------------------------------\u001b[0m",
      "\u001b[0;31mFileNotFoundError\u001b[0m                         Traceback (most recent call last)",
      "\u001b[0;32m<ipython-input-4-abbbe7b58bc3>\u001b[0m in \u001b[0;36m<module>\u001b[0;34m\u001b[0m\n\u001b[1;32m      3\u001b[0m \u001b[0;31m# THE DATASET SHOULD BE ALONG WITH THE NOTEBOOK AND THE PYTHON FILE\u001b[0m\u001b[0;34m\u001b[0m\u001b[0;34m\u001b[0m\u001b[0;34m\u001b[0m\u001b[0m\n\u001b[1;32m      4\u001b[0m \u001b[0;34m\u001b[0m\u001b[0m\n\u001b[0;32m----> 5\u001b[0;31m \u001b[0mdf\u001b[0m \u001b[0;34m=\u001b[0m \u001b[0mpd\u001b[0m\u001b[0;34m.\u001b[0m\u001b[0mread_csv\u001b[0m\u001b[0;34m(\u001b[0m\u001b[0;34m'Summer Olympic medallists 1896 to 2008 - ALL MEDALISTS.txt'\u001b[0m\u001b[0;34m,\u001b[0m \u001b[0msep\u001b[0m\u001b[0;34m=\u001b[0m\u001b[0;34m'\\t'\u001b[0m\u001b[0;34m)\u001b[0m\u001b[0;34m\u001b[0m\u001b[0;34m\u001b[0m\u001b[0m\n\u001b[0m\u001b[1;32m      6\u001b[0m \u001b[0mdf\u001b[0m\u001b[0;34m.\u001b[0m\u001b[0mhead\u001b[0m\u001b[0;34m(\u001b[0m\u001b[0;34m)\u001b[0m\u001b[0;34m\u001b[0m\u001b[0;34m\u001b[0m\u001b[0m\n",
      "\u001b[0;32m/opt/anaconda3/lib/python3.7/site-packages/pandas/io/parsers.py\u001b[0m in \u001b[0;36mparser_f\u001b[0;34m(filepath_or_buffer, sep, delimiter, header, names, index_col, usecols, squeeze, prefix, mangle_dupe_cols, dtype, engine, converters, true_values, false_values, skipinitialspace, skiprows, skipfooter, nrows, na_values, keep_default_na, na_filter, verbose, skip_blank_lines, parse_dates, infer_datetime_format, keep_date_col, date_parser, dayfirst, cache_dates, iterator, chunksize, compression, thousands, decimal, lineterminator, quotechar, quoting, doublequote, escapechar, comment, encoding, dialect, error_bad_lines, warn_bad_lines, delim_whitespace, low_memory, memory_map, float_precision)\u001b[0m\n\u001b[1;32m    683\u001b[0m         )\n\u001b[1;32m    684\u001b[0m \u001b[0;34m\u001b[0m\u001b[0m\n\u001b[0;32m--> 685\u001b[0;31m         \u001b[0;32mreturn\u001b[0m \u001b[0m_read\u001b[0m\u001b[0;34m(\u001b[0m\u001b[0mfilepath_or_buffer\u001b[0m\u001b[0;34m,\u001b[0m \u001b[0mkwds\u001b[0m\u001b[0;34m)\u001b[0m\u001b[0;34m\u001b[0m\u001b[0;34m\u001b[0m\u001b[0m\n\u001b[0m\u001b[1;32m    686\u001b[0m \u001b[0;34m\u001b[0m\u001b[0m\n\u001b[1;32m    687\u001b[0m     \u001b[0mparser_f\u001b[0m\u001b[0;34m.\u001b[0m\u001b[0m__name__\u001b[0m \u001b[0;34m=\u001b[0m \u001b[0mname\u001b[0m\u001b[0;34m\u001b[0m\u001b[0;34m\u001b[0m\u001b[0m\n",
      "\u001b[0;32m/opt/anaconda3/lib/python3.7/site-packages/pandas/io/parsers.py\u001b[0m in \u001b[0;36m_read\u001b[0;34m(filepath_or_buffer, kwds)\u001b[0m\n\u001b[1;32m    455\u001b[0m \u001b[0;34m\u001b[0m\u001b[0m\n\u001b[1;32m    456\u001b[0m     \u001b[0;31m# Create the parser.\u001b[0m\u001b[0;34m\u001b[0m\u001b[0;34m\u001b[0m\u001b[0;34m\u001b[0m\u001b[0m\n\u001b[0;32m--> 457\u001b[0;31m     \u001b[0mparser\u001b[0m \u001b[0;34m=\u001b[0m \u001b[0mTextFileReader\u001b[0m\u001b[0;34m(\u001b[0m\u001b[0mfp_or_buf\u001b[0m\u001b[0;34m,\u001b[0m \u001b[0;34m**\u001b[0m\u001b[0mkwds\u001b[0m\u001b[0;34m)\u001b[0m\u001b[0;34m\u001b[0m\u001b[0;34m\u001b[0m\u001b[0m\n\u001b[0m\u001b[1;32m    458\u001b[0m \u001b[0;34m\u001b[0m\u001b[0m\n\u001b[1;32m    459\u001b[0m     \u001b[0;32mif\u001b[0m \u001b[0mchunksize\u001b[0m \u001b[0;32mor\u001b[0m \u001b[0miterator\u001b[0m\u001b[0;34m:\u001b[0m\u001b[0;34m\u001b[0m\u001b[0;34m\u001b[0m\u001b[0m\n",
      "\u001b[0;32m/opt/anaconda3/lib/python3.7/site-packages/pandas/io/parsers.py\u001b[0m in \u001b[0;36m__init__\u001b[0;34m(self, f, engine, **kwds)\u001b[0m\n\u001b[1;32m    893\u001b[0m             \u001b[0mself\u001b[0m\u001b[0;34m.\u001b[0m\u001b[0moptions\u001b[0m\u001b[0;34m[\u001b[0m\u001b[0;34m\"has_index_names\"\u001b[0m\u001b[0;34m]\u001b[0m \u001b[0;34m=\u001b[0m \u001b[0mkwds\u001b[0m\u001b[0;34m[\u001b[0m\u001b[0;34m\"has_index_names\"\u001b[0m\u001b[0;34m]\u001b[0m\u001b[0;34m\u001b[0m\u001b[0;34m\u001b[0m\u001b[0m\n\u001b[1;32m    894\u001b[0m \u001b[0;34m\u001b[0m\u001b[0m\n\u001b[0;32m--> 895\u001b[0;31m         \u001b[0mself\u001b[0m\u001b[0;34m.\u001b[0m\u001b[0m_make_engine\u001b[0m\u001b[0;34m(\u001b[0m\u001b[0mself\u001b[0m\u001b[0;34m.\u001b[0m\u001b[0mengine\u001b[0m\u001b[0;34m)\u001b[0m\u001b[0;34m\u001b[0m\u001b[0;34m\u001b[0m\u001b[0m\n\u001b[0m\u001b[1;32m    896\u001b[0m \u001b[0;34m\u001b[0m\u001b[0m\n\u001b[1;32m    897\u001b[0m     \u001b[0;32mdef\u001b[0m \u001b[0mclose\u001b[0m\u001b[0;34m(\u001b[0m\u001b[0mself\u001b[0m\u001b[0;34m)\u001b[0m\u001b[0;34m:\u001b[0m\u001b[0;34m\u001b[0m\u001b[0;34m\u001b[0m\u001b[0m\n",
      "\u001b[0;32m/opt/anaconda3/lib/python3.7/site-packages/pandas/io/parsers.py\u001b[0m in \u001b[0;36m_make_engine\u001b[0;34m(self, engine)\u001b[0m\n\u001b[1;32m   1133\u001b[0m     \u001b[0;32mdef\u001b[0m \u001b[0m_make_engine\u001b[0m\u001b[0;34m(\u001b[0m\u001b[0mself\u001b[0m\u001b[0;34m,\u001b[0m \u001b[0mengine\u001b[0m\u001b[0;34m=\u001b[0m\u001b[0;34m\"c\"\u001b[0m\u001b[0;34m)\u001b[0m\u001b[0;34m:\u001b[0m\u001b[0;34m\u001b[0m\u001b[0;34m\u001b[0m\u001b[0m\n\u001b[1;32m   1134\u001b[0m         \u001b[0;32mif\u001b[0m \u001b[0mengine\u001b[0m \u001b[0;34m==\u001b[0m \u001b[0;34m\"c\"\u001b[0m\u001b[0;34m:\u001b[0m\u001b[0;34m\u001b[0m\u001b[0;34m\u001b[0m\u001b[0m\n\u001b[0;32m-> 1135\u001b[0;31m             \u001b[0mself\u001b[0m\u001b[0;34m.\u001b[0m\u001b[0m_engine\u001b[0m \u001b[0;34m=\u001b[0m \u001b[0mCParserWrapper\u001b[0m\u001b[0;34m(\u001b[0m\u001b[0mself\u001b[0m\u001b[0;34m.\u001b[0m\u001b[0mf\u001b[0m\u001b[0;34m,\u001b[0m \u001b[0;34m**\u001b[0m\u001b[0mself\u001b[0m\u001b[0;34m.\u001b[0m\u001b[0moptions\u001b[0m\u001b[0;34m)\u001b[0m\u001b[0;34m\u001b[0m\u001b[0;34m\u001b[0m\u001b[0m\n\u001b[0m\u001b[1;32m   1136\u001b[0m         \u001b[0;32melse\u001b[0m\u001b[0;34m:\u001b[0m\u001b[0;34m\u001b[0m\u001b[0;34m\u001b[0m\u001b[0m\n\u001b[1;32m   1137\u001b[0m             \u001b[0;32mif\u001b[0m \u001b[0mengine\u001b[0m \u001b[0;34m==\u001b[0m \u001b[0;34m\"python\"\u001b[0m\u001b[0;34m:\u001b[0m\u001b[0;34m\u001b[0m\u001b[0;34m\u001b[0m\u001b[0m\n",
      "\u001b[0;32m/opt/anaconda3/lib/python3.7/site-packages/pandas/io/parsers.py\u001b[0m in \u001b[0;36m__init__\u001b[0;34m(self, src, **kwds)\u001b[0m\n\u001b[1;32m   1915\u001b[0m         \u001b[0mkwds\u001b[0m\u001b[0;34m[\u001b[0m\u001b[0;34m\"usecols\"\u001b[0m\u001b[0;34m]\u001b[0m \u001b[0;34m=\u001b[0m \u001b[0mself\u001b[0m\u001b[0;34m.\u001b[0m\u001b[0musecols\u001b[0m\u001b[0;34m\u001b[0m\u001b[0;34m\u001b[0m\u001b[0m\n\u001b[1;32m   1916\u001b[0m \u001b[0;34m\u001b[0m\u001b[0m\n\u001b[0;32m-> 1917\u001b[0;31m         \u001b[0mself\u001b[0m\u001b[0;34m.\u001b[0m\u001b[0m_reader\u001b[0m \u001b[0;34m=\u001b[0m \u001b[0mparsers\u001b[0m\u001b[0;34m.\u001b[0m\u001b[0mTextReader\u001b[0m\u001b[0;34m(\u001b[0m\u001b[0msrc\u001b[0m\u001b[0;34m,\u001b[0m \u001b[0;34m**\u001b[0m\u001b[0mkwds\u001b[0m\u001b[0;34m)\u001b[0m\u001b[0;34m\u001b[0m\u001b[0;34m\u001b[0m\u001b[0m\n\u001b[0m\u001b[1;32m   1918\u001b[0m         \u001b[0mself\u001b[0m\u001b[0;34m.\u001b[0m\u001b[0munnamed_cols\u001b[0m \u001b[0;34m=\u001b[0m \u001b[0mself\u001b[0m\u001b[0;34m.\u001b[0m\u001b[0m_reader\u001b[0m\u001b[0;34m.\u001b[0m\u001b[0munnamed_cols\u001b[0m\u001b[0;34m\u001b[0m\u001b[0;34m\u001b[0m\u001b[0m\n\u001b[1;32m   1919\u001b[0m \u001b[0;34m\u001b[0m\u001b[0m\n",
      "\u001b[0;32mpandas/_libs/parsers.pyx\u001b[0m in \u001b[0;36mpandas._libs.parsers.TextReader.__cinit__\u001b[0;34m()\u001b[0m\n",
      "\u001b[0;32mpandas/_libs/parsers.pyx\u001b[0m in \u001b[0;36mpandas._libs.parsers.TextReader._setup_parser_source\u001b[0;34m()\u001b[0m\n",
      "\u001b[0;31mFileNotFoundError\u001b[0m: [Errno 2] File b'Summer Olympic medallists 1896 to 2008 - ALL MEDALISTS.txt' does not exist: b'Summer Olympic medallists 1896 to 2008 - ALL MEDALISTS.txt'"
     ]
    }
   ],
   "source": [
    "# LOADING THE DATASET\n",
    "# DO NOT CHANGE THIS CELL FOR GRADING\n",
    "# THE DATASET SHOULD BE ALONG WITH THE NOTEBOOK AND THE PYTHON FILE\n",
    "\n",
    "df = pd.read_csv('Summer Olympic medallists 1896 to 2008 - ALL MEDALISTS.txt', sep='\\t')\n",
    "df.head()"
   ]
  },
  {
   "cell_type": "markdown",
   "metadata": {},
   "source": [
    "#### Questions\n",
    "\n",
    "1) How many different cities have organized Olympic games?\n",
    "\n",
    "2) How many different editions of Olympic games are in the dataset?\n",
    "\n",
    "3) How many cities have organized more than one edition of Olympic games?\n",
    "\n",
    "4) Which sport distributed the most medals?\n",
    "\n",
    "5) Which discipline distributed the most medals?\n",
    "\n",
    "6) How many gold medals have been distributed?\n",
    "\n",
    "7) Which edition distributed the most silver medals?\n",
    "\n",
    "8) In how many different disciplines did men received medals (°)?\n",
    "\n",
    "9) In how many different disciplines did women received medals (°)?\n",
    "\n",
    "10) How many disciplines are dedicated to women (°)?\n",
    "\n",
    "11) How many countries have won a medal with an event gender equal to 'X'?\n",
    "\n",
    "12) How many countries have won a gold medal with an event gender equal to 'X'?\n",
    "\n",
    "13) How many different countries have an athlete whose surname is 'SCHMIDT'?\n",
    "\n",
    "14) How many different sports have the word 'ball' in their name?\n",
    "\n",
    "15) How many Bronze or Silver medals have been won by any athlete whose surname is 'KIM'?\n",
    "\n",
    "16) How many different events are in the dataset?\n",
    "\n",
    "17) How many different events including numbers in their description are in the dataset?\n",
    "\n",
    "18) Which athlete has participated in the most editions?\n",
    "\n",
    "19) How many sports have the same number of Gold, Silver and Bronze medals?\n",
    "\n",
    "20) How many athletes have strictly more Gold medals than Silver and more Silver medals than Bronze?\n",
    "\n",
    "21) Which country has won at least one medal in each olympic edition?\n",
    "\n",
    "22) Add a column named 'Score' with 1 for Bronze, 2 for Silver and 3 for Gold medals. What is the total sum of scores?\n",
    "\n",
    "23) Which athlete has the largest sum of scores?\n",
    "\n",
    "24) Which woman athlete has the largest sum of scores?\n",
    "\n",
    "25) For how many countries the sum of men's scores is equal to the sum of women's scores?\n",
    "\n",
    "26) Add a column named 'Trial' with the concatenation of columns 'Discipline', 'Sport' and 'Event' separated by a space. How many different trials are in the dataset?\n",
    "\n",
    "27) Which edition has the largest number of different trials?\n",
    "\n",
    "28) Add a column 'First Name' with the first name of athletes. How many different first names are in the dataset?\n",
    "\n",
    "29) Which athlete's first name has the largest sum of scores?\n",
    "\n",
    "30) Which woman athlete's first name has the largest sum of scores (°)?\n",
    "\n",
    "(°) Use the 'Gender' column."
   ]
  },
  {
   "cell_type": "code",
   "execution_count": 3,
   "metadata": {},
   "outputs": [
    {
     "data": {
      "text/plain": [
       "22"
      ]
     },
     "execution_count": 3,
     "metadata": {},
     "output_type": "execute_result"
    }
   ],
   "source": [
    "# 1) How many different cities have organized Olympic games?\n",
    "def exercise_01():\n",
    "    result = df.City.nunique()\n",
    "    return result\n",
    "\n",
    "# run and check\n",
    "exercise_01()"
   ]
  },
  {
   "cell_type": "code",
   "execution_count": 4,
   "metadata": {},
   "outputs": [
    {
     "data": {
      "text/plain": [
       "26"
      ]
     },
     "execution_count": 4,
     "metadata": {},
     "output_type": "execute_result"
    }
   ],
   "source": [
    "# 2) How many different editions of Olympic games are in the dataset?\n",
    "def exercise_02():\n",
    "    result = df.Edition.nunique()\n",
    "    return result\n",
    "\n",
    "# run and check\n",
    "exercise_02()"
   ]
  },
  {
   "cell_type": "code",
   "execution_count": 5,
   "metadata": {},
   "outputs": [
    {
     "data": {
      "text/plain": [
       "4"
      ]
     },
     "execution_count": 5,
     "metadata": {},
     "output_type": "execute_result"
    }
   ],
   "source": [
    "# 3) How many cities have organized more than one edition of Olympic games?\n",
    "\n",
    "def exercise_03():\n",
    "    result = (df.groupby('City')['Edition'].nunique()>(1)).sum()\n",
    "    return result\n",
    "\n",
    "# run and check\n",
    "exercise_03()"
   ]
  },
  {
   "cell_type": "code",
   "execution_count": 6,
   "metadata": {},
   "outputs": [
    {
     "data": {
      "text/plain": [
       "'Aquatics'"
      ]
     },
     "execution_count": 6,
     "metadata": {},
     "output_type": "execute_result"
    }
   ],
   "source": [
    "# 4) Which sport distributed the most medals?\n",
    "\n",
    "def exercise_04():\n",
    "    result = df.groupby('Sport')['Medal'].count().idxmax()\n",
    "    return result\n",
    "\n",
    "# run and check\n",
    "exercise_04()"
   ]
  },
  {
   "cell_type": "code",
   "execution_count": 7,
   "metadata": {},
   "outputs": [
    {
     "data": {
      "text/plain": [
       "'Athletics'"
      ]
     },
     "execution_count": 7,
     "metadata": {},
     "output_type": "execute_result"
    }
   ],
   "source": [
    "# 5) Which discipline distributed the most medals?\n",
    "\n",
    "def exercise_05():\n",
    "    result = df.groupby('Discipline')['Medal'].count().idxmax()\n",
    "    return result\n",
    "\n",
    "# run and check\n",
    "exercise_05()"
   ]
  },
  {
   "cell_type": "code",
   "execution_count": 8,
   "metadata": {},
   "outputs": [
    {
     "data": {
      "text/plain": [
       "9850"
      ]
     },
     "execution_count": 8,
     "metadata": {},
     "output_type": "execute_result"
    }
   ],
   "source": [
    "# 6) How many gold medals have been distributed?\n",
    "\n",
    "def exercise_06():\n",
    "    result =  len(df[df.Medal==\"Gold\"])\n",
    "    return result\n",
    "\n",
    "# run and check\n",
    "exercise_06()"
   ]
  },
  {
   "cell_type": "code",
   "execution_count": 9,
   "metadata": {},
   "outputs": [
    {
     "data": {
      "text/plain": [
       "2000"
      ]
     },
     "execution_count": 9,
     "metadata": {},
     "output_type": "execute_result"
    }
   ],
   "source": [
    "# 7) Which edition distributed the most silver medals?\n",
    "\n",
    "def exercise_07():\n",
    "    result =  df[df.Medal==\"Silver\"].groupby(\"Edition\")[\"Medal\"].count().idxmax()\n",
    "    return result\n",
    "\n",
    "# run and check\n",
    "exercise_07()"
   ]
  },
  {
   "cell_type": "code",
   "execution_count": 16,
   "metadata": {},
   "outputs": [
    {
     "data": {
      "text/plain": [
       "49"
      ]
     },
     "execution_count": 16,
     "metadata": {},
     "output_type": "execute_result"
    }
   ],
   "source": [
    "# 8) In how many different disciplines did men received medals (°)?\n",
    "\n",
    "def exercise_08():\n",
    "    result =df.loc[df.Event_gender==\"M\",\"Discipline\"].nunique()\n",
    "    return result\n",
    "\n",
    "# run and check\n",
    "exercise_08()"
   ]
  },
  {
   "cell_type": "code",
   "execution_count": 17,
   "metadata": {},
   "outputs": [
    {
     "data": {
      "text/plain": [
       "37"
      ]
     },
     "execution_count": 17,
     "metadata": {},
     "output_type": "execute_result"
    }
   ],
   "source": [
    "# 9) In how many different disciplines did women received medals (°)?\n",
    "\n",
    "def exercise_09():\n",
    "    result = df.loc[df.Event_gender==\"W\",\"Discipline\"].nunique()\n",
    "    return result\n",
    "\n",
    "# run and check\n",
    "exercise_09()"
   ]
  },
  {
   "cell_type": "code",
   "execution_count": 13,
   "metadata": {},
   "outputs": [
    {
     "data": {
      "text/plain": [
       "0"
      ]
     },
     "execution_count": 13,
     "metadata": {},
     "output_type": "execute_result"
    }
   ],
   "source": [
    "# 10) How many disciplines are dedicated to women (°)?\n",
    "\n",
    "def exercise_10():\n",
    "    counted = df.pivot_table(index='Discipline', values='Medal', columns='Event_gender', aggfunc='count')\n",
    "    result =len(counted[(counted.W>counted.M) &(counted.W>counted.X)])\n",
    "    return result\n",
    "\n",
    "# run and check\n",
    "exercise_10()"
   ]
  },
  {
   "cell_type": "code",
   "execution_count": 14,
   "metadata": {},
   "outputs": [
    {
     "data": {
      "text/plain": [
       "49"
      ]
     },
     "execution_count": 14,
     "metadata": {},
     "output_type": "execute_result"
    }
   ],
   "source": [
    "# 11) How many countries have won a medal with an event gender equal to 'X'?\n",
    "\n",
    "def exercise_11():\n",
    "    result = df.loc[df.Event_gender==\"X\",\"NOC\"].nunique()\n",
    "    return result\n",
    "\n",
    "# run and check\n",
    "exercise_11()"
   ]
  },
  {
   "cell_type": "code",
   "execution_count": 15,
   "metadata": {},
   "outputs": [
    {
     "data": {
      "text/plain": [
       "33"
      ]
     },
     "execution_count": 15,
     "metadata": {},
     "output_type": "execute_result"
    }
   ],
   "source": [
    "# 12) How many countries have won a gold medal with an event gender equal to 'X'?\n",
    "\n",
    "def exercise_12():\n",
    "    result =df.loc[(df['Medal']=='Gold') & (df['Event_gender']=='X'), 'NOC'].nunique()\n",
    "    return result\n",
    "\n",
    "# run and check\n",
    "exercise_12()"
   ]
  },
  {
   "cell_type": "code",
   "execution_count": 18,
   "metadata": {},
   "outputs": [
    {
     "data": {
      "text/html": [
       "<div>\n",
       "<style scoped>\n",
       "    .dataframe tbody tr th:only-of-type {\n",
       "        vertical-align: middle;\n",
       "    }\n",
       "\n",
       "    .dataframe tbody tr th {\n",
       "        vertical-align: top;\n",
       "    }\n",
       "\n",
       "    .dataframe thead th {\n",
       "        text-align: right;\n",
       "    }\n",
       "</style>\n",
       "<table border=\"1\" class=\"dataframe\">\n",
       "  <thead>\n",
       "    <tr style=\"text-align: right;\">\n",
       "      <th></th>\n",
       "      <th>City</th>\n",
       "      <th>Edition</th>\n",
       "      <th>Sport</th>\n",
       "      <th>Discipline</th>\n",
       "      <th>Athlete</th>\n",
       "      <th>NOC</th>\n",
       "      <th>Gender</th>\n",
       "      <th>Event</th>\n",
       "      <th>Event_gender</th>\n",
       "      <th>Medal</th>\n",
       "      <th>Firstname</th>\n",
       "      <th>Surname</th>\n",
       "    </tr>\n",
       "  </thead>\n",
       "  <tbody>\n",
       "    <tr>\n",
       "      <th>0</th>\n",
       "      <td>Athens</td>\n",
       "      <td>1896</td>\n",
       "      <td>Aquatics</td>\n",
       "      <td>Swimming</td>\n",
       "      <td>HAJOS, Alfred</td>\n",
       "      <td>HUN</td>\n",
       "      <td>Men</td>\n",
       "      <td>100m freestyle</td>\n",
       "      <td>M</td>\n",
       "      <td>Gold</td>\n",
       "      <td>Alfred</td>\n",
       "      <td>HAJOS</td>\n",
       "    </tr>\n",
       "    <tr>\n",
       "      <th>1</th>\n",
       "      <td>Athens</td>\n",
       "      <td>1896</td>\n",
       "      <td>Aquatics</td>\n",
       "      <td>Swimming</td>\n",
       "      <td>HERSCHMANN, Otto</td>\n",
       "      <td>AUT</td>\n",
       "      <td>Men</td>\n",
       "      <td>100m freestyle</td>\n",
       "      <td>M</td>\n",
       "      <td>Silver</td>\n",
       "      <td>Otto</td>\n",
       "      <td>HERSCHMANN</td>\n",
       "    </tr>\n",
       "    <tr>\n",
       "      <th>2</th>\n",
       "      <td>Athens</td>\n",
       "      <td>1896</td>\n",
       "      <td>Aquatics</td>\n",
       "      <td>Swimming</td>\n",
       "      <td>DRIVAS, Dimitrios</td>\n",
       "      <td>GRE</td>\n",
       "      <td>Men</td>\n",
       "      <td>100m freestyle for sailors</td>\n",
       "      <td>M</td>\n",
       "      <td>Bronze</td>\n",
       "      <td>Dimitrios</td>\n",
       "      <td>DRIVAS</td>\n",
       "    </tr>\n",
       "    <tr>\n",
       "      <th>3</th>\n",
       "      <td>Athens</td>\n",
       "      <td>1896</td>\n",
       "      <td>Aquatics</td>\n",
       "      <td>Swimming</td>\n",
       "      <td>MALOKINIS, Ioannis</td>\n",
       "      <td>GRE</td>\n",
       "      <td>Men</td>\n",
       "      <td>100m freestyle for sailors</td>\n",
       "      <td>M</td>\n",
       "      <td>Gold</td>\n",
       "      <td>Ioannis</td>\n",
       "      <td>MALOKINIS</td>\n",
       "    </tr>\n",
       "    <tr>\n",
       "      <th>4</th>\n",
       "      <td>Athens</td>\n",
       "      <td>1896</td>\n",
       "      <td>Aquatics</td>\n",
       "      <td>Swimming</td>\n",
       "      <td>CHASAPIS, Spiridon</td>\n",
       "      <td>GRE</td>\n",
       "      <td>Men</td>\n",
       "      <td>100m freestyle for sailors</td>\n",
       "      <td>M</td>\n",
       "      <td>Silver</td>\n",
       "      <td>Spiridon</td>\n",
       "      <td>CHASAPIS</td>\n",
       "    </tr>\n",
       "  </tbody>\n",
       "</table>\n",
       "</div>"
      ],
      "text/plain": [
       "     City  Edition     Sport Discipline             Athlete  NOC Gender  \\\n",
       "0  Athens     1896  Aquatics   Swimming       HAJOS, Alfred  HUN    Men   \n",
       "1  Athens     1896  Aquatics   Swimming    HERSCHMANN, Otto  AUT    Men   \n",
       "2  Athens     1896  Aquatics   Swimming   DRIVAS, Dimitrios  GRE    Men   \n",
       "3  Athens     1896  Aquatics   Swimming  MALOKINIS, Ioannis  GRE    Men   \n",
       "4  Athens     1896  Aquatics   Swimming  CHASAPIS, Spiridon  GRE    Men   \n",
       "\n",
       "                        Event Event_gender   Medal  Firstname     Surname  \n",
       "0              100m freestyle            M    Gold     Alfred       HAJOS  \n",
       "1              100m freestyle            M  Silver       Otto  HERSCHMANN  \n",
       "2  100m freestyle for sailors            M  Bronze  Dimitrios      DRIVAS  \n",
       "3  100m freestyle for sailors            M    Gold    Ioannis   MALOKINIS  \n",
       "4  100m freestyle for sailors            M  Silver   Spiridon    CHASAPIS  "
      ]
     },
     "execution_count": 18,
     "metadata": {},
     "output_type": "execute_result"
    }
   ],
   "source": [
    "df['Firstname'] = df['Athlete'].str.split(',\\s+').str[1]\n",
    "df[\"Surname\"]=df['Athlete'].str.split(',\\s+').str[0]\n",
    "df.head()"
   ]
  },
  {
   "cell_type": "code",
   "execution_count": 19,
   "metadata": {},
   "outputs": [
    {
     "data": {
      "text/plain": [
       "11"
      ]
     },
     "execution_count": 19,
     "metadata": {},
     "output_type": "execute_result"
    }
   ],
   "source": [
    "# 13) How many different countries have an athlete whose surname is 'SCHMIDT'?\n",
    "\n",
    "def exercise_13():\n",
    "    result = df[df.Surname==\"SCHMIDT\"][\"NOC\"].nunique()\n",
    "    return result\n",
    "\n",
    "# run and check\n",
    "exercise_13()"
   ]
  },
  {
   "cell_type": "code",
   "execution_count": 20,
   "metadata": {},
   "outputs": [
    {
     "data": {
      "text/plain": [
       "4638"
      ]
     },
     "execution_count": 20,
     "metadata": {},
     "output_type": "execute_result"
    }
   ],
   "source": [
    "# 14) How many different sports have the word 'ball' in their name?\n",
    "\n",
    "def exercise_14():\n",
    "    result = len(df.loc[df['Sport'].str.contains('ball'), 'Sport'])\n",
    "    return result\n",
    "\n",
    "# run and check\n",
    "exercise_14()"
   ]
  },
  {
   "cell_type": "code",
   "execution_count": 21,
   "metadata": {},
   "outputs": [
    {
     "data": {
      "text/plain": [
       "78"
      ]
     },
     "execution_count": 21,
     "metadata": {},
     "output_type": "execute_result"
    }
   ],
   "source": [
    "# 15) How many Bronze or Silver medals have been won by any athlete whose surname is 'KIM'?\n",
    "\n",
    "def exercise_15():\n",
    "    result = len(df[(df.Surname==\"KIM\") & ((df.Medal==\"Silver\") | (df.Medal==\"Bronze\"))])\n",
    "    return result\n",
    "\n",
    "# run and check\n",
    "exercise_15()"
   ]
  },
  {
   "cell_type": "code",
   "execution_count": 22,
   "metadata": {},
   "outputs": [
    {
     "data": {
      "text/plain": [
       "577"
      ]
     },
     "execution_count": 22,
     "metadata": {},
     "output_type": "execute_result"
    }
   ],
   "source": [
    "# 16) How many different events are in the dataset?\n",
    "\n",
    "def exercise_16():\n",
    "    result = df.Event.nunique()\n",
    "    return result\n",
    "\n",
    "\n",
    "# run and check\n",
    "exercise_16()"
   ]
  },
  {
   "cell_type": "code",
   "execution_count": 23,
   "metadata": {},
   "outputs": [
    {
     "data": {
      "text/plain": [
       "8737"
      ]
     },
     "execution_count": 23,
     "metadata": {},
     "output_type": "execute_result"
    }
   ],
   "source": [
    "# 17) How many different events including numbers in their description are in the dataset?\n",
    "\n",
    "def exercise_17():\n",
    "    result = len(df[df.Event.str.match('\\-?(\\d*\\.?\\d+|\\d+\\.?\\d*)')])\n",
    "    return result\n",
    "\n",
    "\n",
    "# run and check\n",
    "exercise_17()"
   ]
  },
  {
   "cell_type": "code",
   "execution_count": 24,
   "metadata": {},
   "outputs": [
    {
     "data": {
      "text/plain": [
       "'LATYNINA, Larisa'"
      ]
     },
     "execution_count": 24,
     "metadata": {},
     "output_type": "execute_result"
    }
   ],
   "source": [
    "# 18) Which athlete has participated in the most editions?\n",
    "\n",
    "def exercise_18():\n",
    "    result =  df.groupby(\"Athlete\")[\"Edition\"].count().idxmax()\n",
    "    return result\n",
    "\n",
    "\n",
    "# run and check\n",
    "exercise_18()"
   ]
  },
  {
   "cell_type": "code",
   "execution_count": 25,
   "metadata": {},
   "outputs": [
    {
     "data": {
      "text/plain": [
       "7"
      ]
     },
     "execution_count": 25,
     "metadata": {},
     "output_type": "execute_result"
    }
   ],
   "source": [
    "# 19) How many sports distributed exactly the same number of Gold, Silver and Bronze medals?\n",
    "\n",
    "def exercise_19():\n",
    "    counted = df.pivot_table(index='Sport', values='Athlete', columns='Medal', aggfunc='count')\n",
    "    result=len(counted[(counted.Bronze==counted.Gold) &(counted.Bronze==counted.Silver)])\n",
    "    return result\n",
    "\n",
    "# run and check\n",
    "exercise_19()"
   ]
  },
  {
   "cell_type": "code",
   "execution_count": 26,
   "metadata": {},
   "outputs": [
    {
     "data": {
      "text/plain": [
       "28"
      ]
     },
     "execution_count": 26,
     "metadata": {},
     "output_type": "execute_result"
    }
   ],
   "source": [
    "# 20) How many athletes received strictly more Gold medals than Silver and strictly more Silver medals than Bronze?\n",
    "\n",
    "def exercise_20():\n",
    "    counted = df.pivot_table(index='Athlete', values='Sport', columns='Medal', aggfunc='count')\n",
    "    result=len(counted[(counted.Gold>counted.Silver) &(counted.Bronze<counted.Silver)])\n",
    "    return result\n",
    "\n",
    "# run and check\n",
    "exercise_20()"
   ]
  },
  {
   "cell_type": "code",
   "execution_count": 27,
   "metadata": {},
   "outputs": [
    {
     "name": "stderr",
     "output_type": "stream",
     "text": [
      "C:\\Users\\Admin\\Anaconda3\\lib\\site-packages\\ipykernel_launcher.py:5: RuntimeWarning: invalid value encountered in greater_equal\n",
      "  \"\"\"\n"
     ]
    },
    {
     "data": {
      "text/html": [
       "<div>\n",
       "<style scoped>\n",
       "    .dataframe tbody tr th:only-of-type {\n",
       "        vertical-align: middle;\n",
       "    }\n",
       "\n",
       "    .dataframe tbody tr th {\n",
       "        vertical-align: top;\n",
       "    }\n",
       "\n",
       "    .dataframe thead th {\n",
       "        text-align: right;\n",
       "    }\n",
       "</style>\n",
       "<table border=\"1\" class=\"dataframe\">\n",
       "  <thead>\n",
       "    <tr style=\"text-align: right;\">\n",
       "      <th>Edition</th>\n",
       "      <th>1896</th>\n",
       "      <th>1900</th>\n",
       "      <th>1904</th>\n",
       "      <th>1908</th>\n",
       "      <th>1912</th>\n",
       "      <th>1920</th>\n",
       "      <th>1924</th>\n",
       "      <th>1928</th>\n",
       "      <th>1932</th>\n",
       "      <th>1936</th>\n",
       "      <th>...</th>\n",
       "      <th>1972</th>\n",
       "      <th>1976</th>\n",
       "      <th>1980</th>\n",
       "      <th>1984</th>\n",
       "      <th>1988</th>\n",
       "      <th>1992</th>\n",
       "      <th>1996</th>\n",
       "      <th>2000</th>\n",
       "      <th>2004</th>\n",
       "      <th>2008</th>\n",
       "    </tr>\n",
       "    <tr>\n",
       "      <th>NOC</th>\n",
       "      <th></th>\n",
       "      <th></th>\n",
       "      <th></th>\n",
       "      <th></th>\n",
       "      <th></th>\n",
       "      <th></th>\n",
       "      <th></th>\n",
       "      <th></th>\n",
       "      <th></th>\n",
       "      <th></th>\n",
       "      <th></th>\n",
       "      <th></th>\n",
       "      <th></th>\n",
       "      <th></th>\n",
       "      <th></th>\n",
       "      <th></th>\n",
       "      <th></th>\n",
       "      <th></th>\n",
       "      <th></th>\n",
       "      <th></th>\n",
       "      <th></th>\n",
       "    </tr>\n",
       "  </thead>\n",
       "  <tbody>\n",
       "    <tr>\n",
       "      <th>GBR</th>\n",
       "      <td>7.0</td>\n",
       "      <td>78.0</td>\n",
       "      <td>2.0</td>\n",
       "      <td>347.0</td>\n",
       "      <td>160.0</td>\n",
       "      <td>107.0</td>\n",
       "      <td>66.0</td>\n",
       "      <td>55.0</td>\n",
       "      <td>34.0</td>\n",
       "      <td>36.0</td>\n",
       "      <td>...</td>\n",
       "      <td>29.0</td>\n",
       "      <td>32.0</td>\n",
       "      <td>45.0</td>\n",
       "      <td>72.0</td>\n",
       "      <td>53.0</td>\n",
       "      <td>50.0</td>\n",
       "      <td>26.0</td>\n",
       "      <td>55.0</td>\n",
       "      <td>57.0</td>\n",
       "      <td>77.0</td>\n",
       "    </tr>\n",
       "  </tbody>\n",
       "</table>\n",
       "<p>1 rows × 26 columns</p>\n",
       "</div>"
      ],
      "text/plain": [
       "Edition  1896  1900  1904   1908   1912   1920  1924  1928  1932  1936  ...  \\\n",
       "NOC                                                                     ...   \n",
       "GBR       7.0  78.0   2.0  347.0  160.0  107.0  66.0  55.0  34.0  36.0  ...   \n",
       "\n",
       "Edition  1972  1976  1980  1984  1988  1992  1996  2000  2004  2008  \n",
       "NOC                                                                  \n",
       "GBR      29.0  32.0  45.0  72.0  53.0  50.0  26.0  55.0  57.0  77.0  \n",
       "\n",
       "[1 rows x 26 columns]"
      ]
     },
     "execution_count": 27,
     "metadata": {},
     "output_type": "execute_result"
    }
   ],
   "source": [
    "# 21) Which country has won at least one medal in each olympic edition?\n",
    "\n",
    "def exercise_21():\n",
    "    counted = df.pivot_table(index='NOC', values='Medal', columns='Edition', aggfunc='count')\n",
    "    result = counted[(counted.values>=1).all(1)]\n",
    "    return result\n",
    "\n",
    "# run and check\n",
    "exercise_21()"
   ]
  },
  {
   "cell_type": "code",
   "execution_count": 28,
   "metadata": {},
   "outputs": [
    {
     "data": {
      "text/html": [
       "<div>\n",
       "<style scoped>\n",
       "    .dataframe tbody tr th:only-of-type {\n",
       "        vertical-align: middle;\n",
       "    }\n",
       "\n",
       "    .dataframe tbody tr th {\n",
       "        vertical-align: top;\n",
       "    }\n",
       "\n",
       "    .dataframe thead th {\n",
       "        text-align: right;\n",
       "    }\n",
       "</style>\n",
       "<table border=\"1\" class=\"dataframe\">\n",
       "  <thead>\n",
       "    <tr style=\"text-align: right;\">\n",
       "      <th></th>\n",
       "      <th>City</th>\n",
       "      <th>Edition</th>\n",
       "      <th>Sport</th>\n",
       "      <th>Discipline</th>\n",
       "      <th>Athlete</th>\n",
       "      <th>NOC</th>\n",
       "      <th>Gender</th>\n",
       "      <th>Event</th>\n",
       "      <th>Event_gender</th>\n",
       "      <th>Medal</th>\n",
       "      <th>Firstname</th>\n",
       "      <th>Surname</th>\n",
       "      <th>Score</th>\n",
       "    </tr>\n",
       "  </thead>\n",
       "  <tbody>\n",
       "    <tr>\n",
       "      <th>0</th>\n",
       "      <td>Athens</td>\n",
       "      <td>1896</td>\n",
       "      <td>Aquatics</td>\n",
       "      <td>Swimming</td>\n",
       "      <td>HAJOS, Alfred</td>\n",
       "      <td>HUN</td>\n",
       "      <td>Men</td>\n",
       "      <td>100m freestyle</td>\n",
       "      <td>M</td>\n",
       "      <td>Gold</td>\n",
       "      <td>Alfred</td>\n",
       "      <td>HAJOS</td>\n",
       "      <td>3</td>\n",
       "    </tr>\n",
       "    <tr>\n",
       "      <th>1</th>\n",
       "      <td>Athens</td>\n",
       "      <td>1896</td>\n",
       "      <td>Aquatics</td>\n",
       "      <td>Swimming</td>\n",
       "      <td>HERSCHMANN, Otto</td>\n",
       "      <td>AUT</td>\n",
       "      <td>Men</td>\n",
       "      <td>100m freestyle</td>\n",
       "      <td>M</td>\n",
       "      <td>Silver</td>\n",
       "      <td>Otto</td>\n",
       "      <td>HERSCHMANN</td>\n",
       "      <td>2</td>\n",
       "    </tr>\n",
       "    <tr>\n",
       "      <th>2</th>\n",
       "      <td>Athens</td>\n",
       "      <td>1896</td>\n",
       "      <td>Aquatics</td>\n",
       "      <td>Swimming</td>\n",
       "      <td>DRIVAS, Dimitrios</td>\n",
       "      <td>GRE</td>\n",
       "      <td>Men</td>\n",
       "      <td>100m freestyle for sailors</td>\n",
       "      <td>M</td>\n",
       "      <td>Bronze</td>\n",
       "      <td>Dimitrios</td>\n",
       "      <td>DRIVAS</td>\n",
       "      <td>1</td>\n",
       "    </tr>\n",
       "    <tr>\n",
       "      <th>3</th>\n",
       "      <td>Athens</td>\n",
       "      <td>1896</td>\n",
       "      <td>Aquatics</td>\n",
       "      <td>Swimming</td>\n",
       "      <td>MALOKINIS, Ioannis</td>\n",
       "      <td>GRE</td>\n",
       "      <td>Men</td>\n",
       "      <td>100m freestyle for sailors</td>\n",
       "      <td>M</td>\n",
       "      <td>Gold</td>\n",
       "      <td>Ioannis</td>\n",
       "      <td>MALOKINIS</td>\n",
       "      <td>3</td>\n",
       "    </tr>\n",
       "    <tr>\n",
       "      <th>4</th>\n",
       "      <td>Athens</td>\n",
       "      <td>1896</td>\n",
       "      <td>Aquatics</td>\n",
       "      <td>Swimming</td>\n",
       "      <td>CHASAPIS, Spiridon</td>\n",
       "      <td>GRE</td>\n",
       "      <td>Men</td>\n",
       "      <td>100m freestyle for sailors</td>\n",
       "      <td>M</td>\n",
       "      <td>Silver</td>\n",
       "      <td>Spiridon</td>\n",
       "      <td>CHASAPIS</td>\n",
       "      <td>2</td>\n",
       "    </tr>\n",
       "  </tbody>\n",
       "</table>\n",
       "</div>"
      ],
      "text/plain": [
       "     City  Edition     Sport Discipline             Athlete  NOC Gender  \\\n",
       "0  Athens     1896  Aquatics   Swimming       HAJOS, Alfred  HUN    Men   \n",
       "1  Athens     1896  Aquatics   Swimming    HERSCHMANN, Otto  AUT    Men   \n",
       "2  Athens     1896  Aquatics   Swimming   DRIVAS, Dimitrios  GRE    Men   \n",
       "3  Athens     1896  Aquatics   Swimming  MALOKINIS, Ioannis  GRE    Men   \n",
       "4  Athens     1896  Aquatics   Swimming  CHASAPIS, Spiridon  GRE    Men   \n",
       "\n",
       "                        Event Event_gender   Medal  Firstname     Surname  \\\n",
       "0              100m freestyle            M    Gold     Alfred       HAJOS   \n",
       "1              100m freestyle            M  Silver       Otto  HERSCHMANN   \n",
       "2  100m freestyle for sailors            M  Bronze  Dimitrios      DRIVAS   \n",
       "3  100m freestyle for sailors            M    Gold    Ioannis   MALOKINIS   \n",
       "4  100m freestyle for sailors            M  Silver   Spiridon    CHASAPIS   \n",
       "\n",
       "   Score  \n",
       "0      3  \n",
       "1      2  \n",
       "2      1  \n",
       "3      3  \n",
       "4      2  "
      ]
     },
     "execution_count": 28,
     "metadata": {},
     "output_type": "execute_result"
    }
   ],
   "source": [
    "Score = {'Gold':3,'Silver':2,'Bronze':1}                                                                                   \n",
    "df['Score'] = df['Medal'].map(Score)\n",
    "df.head()"
   ]
  },
  {
   "cell_type": "code",
   "execution_count": 29,
   "metadata": {},
   "outputs": [
    {
     "data": {
      "text/plain": [
       "58593"
      ]
     },
     "execution_count": 29,
     "metadata": {},
     "output_type": "execute_result"
    }
   ],
   "source": [
    "# 22) What is the total sum of scores?\n",
    "\n",
    "def exercise_22():\n",
    "    result = df.Score.sum()\n",
    "    return result\n",
    "\n",
    "# run and check\n",
    "exercise_22()"
   ]
  },
  {
   "cell_type": "code",
   "execution_count": 30,
   "metadata": {},
   "outputs": [
    {
     "data": {
      "text/plain": [
       "'PHELPS, Michael'"
      ]
     },
     "execution_count": 30,
     "metadata": {},
     "output_type": "execute_result"
    }
   ],
   "source": [
    "# 23) Which athlete has the largest sum of scores?\n",
    "\n",
    "def exercise_23():\n",
    "    result = df.groupby('Athlete')['Score'].sum().idxmax() \n",
    "    return result\n",
    "\n",
    "# run and check\n",
    "exercise_23()"
   ]
  },
  {
   "cell_type": "code",
   "execution_count": 31,
   "metadata": {},
   "outputs": [
    {
     "data": {
      "text/plain": [
       "'LATYNINA, Larisa'"
      ]
     },
     "execution_count": 31,
     "metadata": {},
     "output_type": "execute_result"
    }
   ],
   "source": [
    "# 24) Which woman athlete has the largest sum of scores (°)?\n",
    "\n",
    "def exercise_24():\n",
    "    result = df[df.Event_gender==\"W\"].groupby('Athlete')['Score'].sum().idxmax()\n",
    "    return result\n",
    "\n",
    "# run and check\n",
    "exercise_24()"
   ]
  },
  {
   "cell_type": "code",
   "execution_count": 32,
   "metadata": {},
   "outputs": [
    {
     "data": {
      "text/plain": [
       "5"
      ]
     },
     "execution_count": 32,
     "metadata": {},
     "output_type": "execute_result"
    }
   ],
   "source": [
    "# 25) For how many countries the sum of men' scores is equal to the sum of women' scores?\n",
    "\n",
    "def exercise_25():\n",
    "    counted = df.pivot_table(index='NOC', values='Score', columns='Event_gender', aggfunc='sum')\n",
    "    result=len(counted[(counted.M==counted.W)])\n",
    "    return result\n",
    "\n",
    "# run and check\n",
    "exercise_25()"
   ]
  },
  {
   "cell_type": "code",
   "execution_count": 33,
   "metadata": {},
   "outputs": [
    {
     "data": {
      "text/html": [
       "<div>\n",
       "<style scoped>\n",
       "    .dataframe tbody tr th:only-of-type {\n",
       "        vertical-align: middle;\n",
       "    }\n",
       "\n",
       "    .dataframe tbody tr th {\n",
       "        vertical-align: top;\n",
       "    }\n",
       "\n",
       "    .dataframe thead th {\n",
       "        text-align: right;\n",
       "    }\n",
       "</style>\n",
       "<table border=\"1\" class=\"dataframe\">\n",
       "  <thead>\n",
       "    <tr style=\"text-align: right;\">\n",
       "      <th></th>\n",
       "      <th>City</th>\n",
       "      <th>Edition</th>\n",
       "      <th>Sport</th>\n",
       "      <th>Discipline</th>\n",
       "      <th>Athlete</th>\n",
       "      <th>NOC</th>\n",
       "      <th>Gender</th>\n",
       "      <th>Event</th>\n",
       "      <th>Event_gender</th>\n",
       "      <th>Medal</th>\n",
       "      <th>Firstname</th>\n",
       "      <th>Surname</th>\n",
       "      <th>Score</th>\n",
       "      <th>trials</th>\n",
       "    </tr>\n",
       "  </thead>\n",
       "  <tbody>\n",
       "    <tr>\n",
       "      <th>0</th>\n",
       "      <td>Athens</td>\n",
       "      <td>1896</td>\n",
       "      <td>Aquatics</td>\n",
       "      <td>Swimming</td>\n",
       "      <td>HAJOS, Alfred</td>\n",
       "      <td>HUN</td>\n",
       "      <td>Men</td>\n",
       "      <td>100m freestyle</td>\n",
       "      <td>M</td>\n",
       "      <td>Gold</td>\n",
       "      <td>Alfred</td>\n",
       "      <td>HAJOS</td>\n",
       "      <td>3</td>\n",
       "      <td>Swimming_Aquatics_100m freestyle</td>\n",
       "    </tr>\n",
       "    <tr>\n",
       "      <th>1</th>\n",
       "      <td>Athens</td>\n",
       "      <td>1896</td>\n",
       "      <td>Aquatics</td>\n",
       "      <td>Swimming</td>\n",
       "      <td>HERSCHMANN, Otto</td>\n",
       "      <td>AUT</td>\n",
       "      <td>Men</td>\n",
       "      <td>100m freestyle</td>\n",
       "      <td>M</td>\n",
       "      <td>Silver</td>\n",
       "      <td>Otto</td>\n",
       "      <td>HERSCHMANN</td>\n",
       "      <td>2</td>\n",
       "      <td>Swimming_Aquatics_100m freestyle</td>\n",
       "    </tr>\n",
       "    <tr>\n",
       "      <th>2</th>\n",
       "      <td>Athens</td>\n",
       "      <td>1896</td>\n",
       "      <td>Aquatics</td>\n",
       "      <td>Swimming</td>\n",
       "      <td>DRIVAS, Dimitrios</td>\n",
       "      <td>GRE</td>\n",
       "      <td>Men</td>\n",
       "      <td>100m freestyle for sailors</td>\n",
       "      <td>M</td>\n",
       "      <td>Bronze</td>\n",
       "      <td>Dimitrios</td>\n",
       "      <td>DRIVAS</td>\n",
       "      <td>1</td>\n",
       "      <td>Swimming_Aquatics_100m freestyle for sailors</td>\n",
       "    </tr>\n",
       "    <tr>\n",
       "      <th>3</th>\n",
       "      <td>Athens</td>\n",
       "      <td>1896</td>\n",
       "      <td>Aquatics</td>\n",
       "      <td>Swimming</td>\n",
       "      <td>MALOKINIS, Ioannis</td>\n",
       "      <td>GRE</td>\n",
       "      <td>Men</td>\n",
       "      <td>100m freestyle for sailors</td>\n",
       "      <td>M</td>\n",
       "      <td>Gold</td>\n",
       "      <td>Ioannis</td>\n",
       "      <td>MALOKINIS</td>\n",
       "      <td>3</td>\n",
       "      <td>Swimming_Aquatics_100m freestyle for sailors</td>\n",
       "    </tr>\n",
       "    <tr>\n",
       "      <th>4</th>\n",
       "      <td>Athens</td>\n",
       "      <td>1896</td>\n",
       "      <td>Aquatics</td>\n",
       "      <td>Swimming</td>\n",
       "      <td>CHASAPIS, Spiridon</td>\n",
       "      <td>GRE</td>\n",
       "      <td>Men</td>\n",
       "      <td>100m freestyle for sailors</td>\n",
       "      <td>M</td>\n",
       "      <td>Silver</td>\n",
       "      <td>Spiridon</td>\n",
       "      <td>CHASAPIS</td>\n",
       "      <td>2</td>\n",
       "      <td>Swimming_Aquatics_100m freestyle for sailors</td>\n",
       "    </tr>\n",
       "  </tbody>\n",
       "</table>\n",
       "</div>"
      ],
      "text/plain": [
       "     City  Edition     Sport Discipline             Athlete  NOC Gender  \\\n",
       "0  Athens     1896  Aquatics   Swimming       HAJOS, Alfred  HUN    Men   \n",
       "1  Athens     1896  Aquatics   Swimming    HERSCHMANN, Otto  AUT    Men   \n",
       "2  Athens     1896  Aquatics   Swimming   DRIVAS, Dimitrios  GRE    Men   \n",
       "3  Athens     1896  Aquatics   Swimming  MALOKINIS, Ioannis  GRE    Men   \n",
       "4  Athens     1896  Aquatics   Swimming  CHASAPIS, Spiridon  GRE    Men   \n",
       "\n",
       "                        Event Event_gender   Medal  Firstname     Surname  \\\n",
       "0              100m freestyle            M    Gold     Alfred       HAJOS   \n",
       "1              100m freestyle            M  Silver       Otto  HERSCHMANN   \n",
       "2  100m freestyle for sailors            M  Bronze  Dimitrios      DRIVAS   \n",
       "3  100m freestyle for sailors            M    Gold    Ioannis   MALOKINIS   \n",
       "4  100m freestyle for sailors            M  Silver   Spiridon    CHASAPIS   \n",
       "\n",
       "   Score                                        trials  \n",
       "0      3              Swimming_Aquatics_100m freestyle  \n",
       "1      2              Swimming_Aquatics_100m freestyle  \n",
       "2      1  Swimming_Aquatics_100m freestyle for sailors  \n",
       "3      3  Swimming_Aquatics_100m freestyle for sailors  \n",
       "4      2  Swimming_Aquatics_100m freestyle for sailors  "
      ]
     },
     "execution_count": 33,
     "metadata": {},
     "output_type": "execute_result"
    }
   ],
   "source": [
    "df['trials']=df['Discipline'].astype(str)+'_'+df['Sport']+'_'+df['Event']\n",
    "df.head()"
   ]
  },
  {
   "cell_type": "code",
   "execution_count": 34,
   "metadata": {},
   "outputs": [
    {
     "data": {
      "text/plain": [
       "648"
      ]
     },
     "execution_count": 34,
     "metadata": {},
     "output_type": "execute_result"
    }
   ],
   "source": [
    "# 26) How many different trials are in the dataset?\n",
    "\n",
    "def exercise_26():\n",
    "    result = df.trials.nunique()\n",
    "    return result\n",
    "\n",
    "# run and check\n",
    "exercise_26()"
   ]
  },
  {
   "cell_type": "code",
   "execution_count": 35,
   "metadata": {},
   "outputs": [
    {
     "data": {
      "text/plain": [
       "2004"
      ]
     },
     "execution_count": 35,
     "metadata": {},
     "output_type": "execute_result"
    }
   ],
   "source": [
    "# 27) Which edition has the most different trials?\n",
    "\n",
    "def exercise_27():\n",
    "    result = df.groupby(\"Edition\")[\"trials\"].nunique().idxmax()\n",
    "    return result\n",
    "\n",
    "# run and check\n",
    "exercise_27()"
   ]
  },
  {
   "cell_type": "code",
   "execution_count": 36,
   "metadata": {},
   "outputs": [
    {
     "data": {
      "text/plain": [
       "9772"
      ]
     },
     "execution_count": 36,
     "metadata": {},
     "output_type": "execute_result"
    }
   ],
   "source": [
    "# 28) How many different first names are in the dataset?\n",
    "\n",
    "def exercise_28():\n",
    "    result = df.Firstname.nunique()\n",
    "    return result\n",
    "\n",
    "# run and check\n",
    "exercise_28()"
   ]
  },
  {
   "cell_type": "code",
   "execution_count": 38,
   "metadata": {},
   "outputs": [
    {
     "data": {
      "text/plain": [
       "502           AITOFF, Vladimir\n",
       "6607       SYROVATKA, Vladimir\n",
       "8107         IVKOVIC, Vladimir\n",
       "8140       KAZANTSEV, Vladimir\n",
       "8157        SUKHAREV, Vladimir\n",
       "8524           BEARA, Vladimir\n",
       "8571        BELYAKOV, Vladimir\n",
       "8730         KRYUKOV, Vladimir\n",
       "                 ...          \n",
       "23547       ANDREYEV, Vladimir\n",
       "25023          BATEZ, Vladimir\n",
       "25027          GRBIC, Vladimir\n",
       "25457       GOJKOVIC, Vladimir\n",
       "25468    VUJASINOVIC, Vladimir\n",
       "26835         ISAKOV, Vladimir\n",
       "27455    VUJASINOVIC, Vladimir\n",
       "28864         ISAKOV, Vladimir\n",
       "Name: Athlete, Length: 197, dtype: object"
      ]
     },
     "execution_count": 38,
     "metadata": {},
     "output_type": "execute_result"
    }
   ],
   "source": [
    "# 29) Which athlete's first name has the largest sum of scores?\n",
    "\n",
    "def exercise_29():\n",
    "    sum_score = df.groupby ('Firstname')['Score'].sum()\n",
    "    max_score = sum_score.max()\n",
    "    names = sum_score[sum_score == max_score].index\n",
    "    result=df[df['Firstname'].isin(names)][\"Athlete\"]\n",
    "    return result\n",
    "\n",
    "# run and check\n",
    "exercise_29()"
   ]
  },
  {
   "cell_type": "code",
   "execution_count": 39,
   "metadata": {},
   "outputs": [
    {
     "data": {
      "text/plain": [
       "8216                       GORCHAKOVA, Elena\n",
       "9443     LEUSTEANU-POPESCU-TEODORESCU, Elena\n",
       "9486     LEUSTEANU-POPESCU-TEODORESCU, Elena\n",
       "9487               MARGARIT-NICULESCU, Elena\n",
       "9488               SACALICI-PETROSANU, Elena\n",
       "10399    LEUSTEANU-POPESCU-TEODORESCU, Elena\n",
       "10400              MARGARIT-NICULESCU, Elena\n",
       "10927                      GORCHAKOVA, Elena\n",
       "                        ...                 \n",
       "27431                    OVCHINNIKOVA, Elena\n",
       "27708                       ISINBAEVA, Elena\n",
       "28016                         KALISKA, Elena\n",
       "28385                        POSEVINA, Elena\n",
       "28476                       DMITRIEVA, Elena\n",
       "28479                        POLENOVA, Elena\n",
       "28696                       GEORGESCU, Elena\n",
       "29008                      DEMENTIEVA, Elena\n",
       "Name: Athlete, Length: 105, dtype: object"
      ]
     },
     "execution_count": 39,
     "metadata": {},
     "output_type": "execute_result"
    }
   ],
   "source": [
    "# 30) Which woman athlete's first name has the largest sum of scores (°)?\n",
    "\n",
    "def exercise_30():\n",
    "    sum_score = df[df.Event_gender==\"W\"].groupby ('Firstname')['Score'].sum()\n",
    "    max_score = sum_score.max()\n",
    "    names = sum_score[sum_score == max_score].index\n",
    "    result=df[df['Firstname'].isin(names)][\"Athlete\"]\n",
    "    return result\n",
    "\n",
    "# run and check\n",
    "exercise_30()"
   ]
  },
  {
   "cell_type": "code",
   "execution_count": null,
   "metadata": {},
   "outputs": [],
   "source": []
  }
 ],
 "metadata": {
  "kernelspec": {
   "display_name": "Python 3",
   "language": "python",
   "name": "python3"
  },
  "language_info": {
   "codemirror_mode": {
    "name": "ipython",
    "version": 3
   },
   "file_extension": ".py",
   "mimetype": "text/x-python",
   "name": "python",
   "nbconvert_exporter": "python",
   "pygments_lexer": "ipython3",
   "version": "3.7.4"
  }
 },
 "nbformat": 4,
 "nbformat_minor": 2
}
